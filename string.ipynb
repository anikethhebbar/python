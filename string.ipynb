{
 "cells": [
  {
   "cell_type": "code",
   "execution_count": 2,
   "metadata": {},
   "outputs": [
    {
     "name": "stdout",
     "output_type": "stream",
     "text": [
      "0 B\n",
      "1 a\n",
      "2 n\n",
      "3 a\n",
      "4 n\n",
      "5 a\n",
      "B\n",
      "a\n",
      "n\n",
      "a\n",
      "n\n",
      "a\n",
      "3\n",
      "india\n",
      "indian goof\n",
      "oof\n",
      "indian goof\n"
     ]
    }
   ],
   "source": [
    "fruit = 'Banana'\n",
    "i = 0\n",
    "while i < len(fruit):\n",
    "    output = fruit[i]\n",
    "    print(i, output)\n",
    "    i = i+1\n",
    "\n",
    "fruit = 'Banana'\n",
    "for letter in fruit:\n",
    "    print(letter)\n",
    "from dis import code_info\n",
    "\n",
    "\n",
    "fruit = 'Banana'\n",
    "count = 0\n",
    "for k in fruit:\n",
    "    if k == 'a':\n",
    "        count=count+1\n",
    "print(count)\n",
    "d='indian goof'\n",
    "print(d[0:5])\n",
    "d='indian goof'\n",
    "print(d[0:])\n",
    "d='indian goof'\n",
    "print(d[8:40])\n",
    "d='indian goof'\n",
    "print(d[:])"
   ]
  },
  {
   "cell_type": "code",
   "execution_count": 3,
   "metadata": {},
   "outputs": [
    {
     "data": {
      "text/plain": [
       "False"
      ]
     },
     "execution_count": 3,
     "metadata": {},
     "output_type": "execute_result"
    }
   ],
   "source": [
    "fruit ='banana'\n",
    "'j' in fruit"
   ]
  },
  {
   "cell_type": "code",
   "execution_count": 4,
   "metadata": {},
   "outputs": [
    {
     "data": {
      "text/plain": [
       "True"
      ]
     },
     "execution_count": 4,
     "metadata": {},
     "output_type": "execute_result"
    }
   ],
   "source": [
    "fruit ='banana'\n",
    "'a' in fruit"
   ]
  },
  {
   "cell_type": "code",
   "execution_count": 5,
   "metadata": {},
   "outputs": [
    {
     "name": "stdout",
     "output_type": "stream",
     "text": [
      "YESSIR!!\n"
     ]
    }
   ],
   "source": [
    "if 'a' in fruit :\n",
    "    print('YESSIR!!')"
   ]
  },
  {
   "cell_type": "code",
   "execution_count": null,
   "metadata": {},
   "outputs": [],
   "source": []
  }
 ],
 "metadata": {
  "kernelspec": {
   "display_name": "Python 3.9.13 64-bit",
   "language": "python",
   "name": "python3"
  },
  "language_info": {
   "codemirror_mode": {
    "name": "ipython",
    "version": 3
   },
   "file_extension": ".py",
   "mimetype": "text/x-python",
   "name": "python",
   "nbconvert_exporter": "python",
   "pygments_lexer": "ipython3",
   "version": "3.9.13"
  },
  "orig_nbformat": 4,
  "vscode": {
   "interpreter": {
    "hash": "b0fa6594d8f4cbf19f97940f81e996739fb7646882a419484c72d19e05852a7e"
   }
  }
 },
 "nbformat": 4,
 "nbformat_minor": 2
}
