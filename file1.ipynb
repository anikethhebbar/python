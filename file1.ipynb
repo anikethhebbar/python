{
 "cells": [
  {
   "cell_type": "code",
   "execution_count": 2,
   "metadata": {},
   "outputs": [
    {
     "name": "stdout",
     "output_type": "stream",
     "text": [
      "Line count:  4\n"
     ]
    }
   ],
   "source": [
    "fhand = open('ani.txt')\n",
    "count = 0\n",
    "for line in fhand:\n",
    "    count = count + 1\n",
    "print('Line count: ', count)"
   ]
  },
  {
   "cell_type": "code",
   "execution_count": 5,
   "metadata": {},
   "outputs": [
    {
     "name": "stdout",
     "output_type": "stream",
     "text": [
      "aniketh hebbar\n",
      "\n",
      "1ay20ai008\n",
      "\n",
      "\n",
      "\n",
      "ait \n"
     ]
    }
   ],
   "source": [
    "xfile = open('ani.txt')\n",
    "count = 0\n",
    "for line in xfile:\n",
    "    print(line)"
   ]
  },
  {
   "cell_type": "code",
   "execution_count": 24,
   "metadata": {},
   "outputs": [
    {
     "name": "stdout",
     "output_type": "stream",
     "text": [
      "aniketh hebbar\n",
      "\n",
      "Nothing in line 2\n",
      "Nothing in line 3\n",
      "Nothing in line 4\n"
     ]
    }
   ],
   "source": [
    "xfile = open('ani.txt')\n",
    "count = 0\n",
    "for line in xfile:\n",
    "    count = count+1\n",
    "    if line.startswith('ani'):\n",
    "        print(line)\n",
    "    else:\n",
    "        print('Nothing in line', count)"
   ]
  },
  {
   "cell_type": "code",
   "execution_count": 25,
   "metadata": {},
   "outputs": [],
   "source": [
    "fname = input('Enter the file name: ')\n",
    "fhand = open(fname)"
   ]
  }
 ],
 "metadata": {
  "kernelspec": {
   "display_name": "Python 3.9.13 64-bit",
   "language": "python",
   "name": "python3"
  },
  "language_info": {
   "codemirror_mode": {
    "name": "ipython",
    "version": 3
   },
   "file_extension": ".py",
   "mimetype": "text/x-python",
   "name": "python",
   "nbconvert_exporter": "python",
   "pygments_lexer": "ipython3",
   "version": "3.9.13"
  },
  "orig_nbformat": 4,
  "vscode": {
   "interpreter": {
    "hash": "b0fa6594d8f4cbf19f97940f81e996739fb7646882a419484c72d19e05852a7e"
   }
  }
 },
 "nbformat": 4,
 "nbformat_minor": 2
}
